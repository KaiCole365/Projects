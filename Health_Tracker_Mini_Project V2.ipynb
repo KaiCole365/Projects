{
  "cells": [
    {
      "cell_type": "code",
      "source": [
        "# Creating main program to interact with user\n",
        "def main():\n",
        "    print(\"=\" * 30)\n",
        "    print(\"Diet Tracker\")\n",
        "    print(\"=\" * 30)\n",
        "\n",
        "    breakfast_calories = int(input(\"How many calories did you have for breakfast? \"))\n",
        "    lunch_calories = int(input(\"How many calories did you have for lunch? \"))\n",
        "    dinner_calories = int(input(\"How many calories did you have for dinner? \"))\n",
        "    exercise = int(input(\"How many calories did you burn exercising? \"))\n",
        "    gender = str(input(\"Enter your gender (M or F): \").lower())\n",
        "    weight = int(input(\"Enter your weight (in lbs): \"))\n",
        "    height = int(input(\"Enter your height (in inches): \"))\n",
        "    age = int(input(\"Enter your age: \"))\n",
        "\n",
        "    fitness = Diet(breakfast_calories, lunch_calories, dinner_calories, exercise, 0)\n",
        "    bmr = fitness.calculate_bmr(gender, weight, height, age)\n",
        "    fitness.bmr = bmr\n",
        "\n",
        "    deficit = fitness.calorie_deficit()\n",
        "\n",
        "    print(f\"\\nYour BMR is: {bmr:.2f} calories\")\n",
        "    print(f\"Your calorie deficit for today is: {deficit:.2f} calories\")\n",
        "\n",
        "  # Creating class called 'Diet' to handle diet tracking\n",
        "class Diet:\n",
        "  def __init__(self, breakfast_calories, lunch_calories, dinner_calories, exercise, bmr):\n",
        "        self.breakfast_calories = breakfast_calories\n",
        "        self.lunch_calories = lunch_calories\n",
        "        self.dinner_calories = dinner_calories\n",
        "        self.exercise = exercise\n",
        "        self.bmr = bmr\n",
        "\n",
        "  def calorie_deficit(self):\n",
        "    total_calories = self.breakfast_calories + self.lunch_calories + self.dinner_calories\n",
        "    deficit = self.bmr + self.exercise - total_calories\n",
        "    return deficit\n",
        "\n",
        "  def calculate_bmr(self, gender, weight, height, age):\n",
        "    if gender == 'm':\n",
        "      return 66 + (6.23 * weight) + (12.7 * height) - (6.8 * age)\n",
        "\n",
        "    elif gender == 'f':\n",
        "      return 655 + (4.35 * weight) + (4.7 * height) - (4.7 * age)\n",
        "\n",
        "    else:\n",
        "      raise ValueError(\"Invalid gender. Please enter 'm' for male or 'f' for female.\")\n",
        "\n",
        "if __name__ == \"__main__\":\n",
        "  main()\n"
      ],
      "metadata": {
        "colab": {
          "base_uri": "https://localhost:8080/"
        },
        "id": "YnCWkfCb4Wjg",
        "outputId": "44eb1242-625c-4e6c-bf61-859f1bd1a42b"
      },
      "execution_count": 4,
      "outputs": [
        {
          "output_type": "stream",
          "name": "stdout",
          "text": [
            "==============================\n",
            "Diet Tracker\n",
            "==============================\n",
            "How many calories did you have for breakfast? 2000\n",
            "How many calories did you have for lunch? 400\n",
            "How many calories did you have for dinner? 250\n",
            "How many calories did you burn exercising? 200\n",
            "Enter your gender (M or F): m\n",
            "Enter your weight (in lbs): 225\n",
            "Enter your height (in inches): 74\n",
            "Enter your age: 37\n",
            "\n",
            "Your BMR is: 2155.95 calories\n",
            "Your calorie deficit for today is: -294.05 calories\n"
          ]
        }
      ]
    }
  ],
  "metadata": {
    "colab": {
      "provenance": []
    },
    "kernelspec": {
      "display_name": "Python 3",
      "name": "python3"
    },
    "language_info": {
      "name": "python"
    }
  },
  "nbformat": 4,
  "nbformat_minor": 0
}