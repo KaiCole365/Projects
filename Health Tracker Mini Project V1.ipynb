{
  "cells": [
    {
      "cell_type": "markdown",
      "source": [
        "# Health Tracker Mini Project V1"
      ],
      "metadata": {
        "id": "7c8n4c2y90cr"
      }
    },
    {
      "cell_type": "code",
      "execution_count": null,
      "metadata": {
        "colab": {
          "base_uri": "https://localhost:8080/"
        },
        "id": "jyT648dDp5tB",
        "outputId": "13134a5d-6043-46bc-f34e-c84c06cd7834"
      },
      "outputs": [
        {
          "output_type": "stream",
          "name": "stdout",
          "text": [
            "==============================\n",
            "Diet Tracker\n",
            "==============================\n",
            "How many calories did you have for breakfast? 2000\n",
            "How many calories did you have for lunch? 350\n",
            "How many calories did you have for dinner? 200\n",
            "How many calories did you burn exercising? 220\n",
            "Enter your bmr 654\n",
            "Your calorie deficit for today is: -1676.00 calories\n"
          ]
        }
      ],
      "source": [
        "# Creating class called 'Diet' to handle diet tracking\n",
        "class Diet:\n",
        "    def __init__(self, breakfast_calories, lunch_calories, dinner_calories, exercise, bmr):\n",
        "        self.breakfast_calories = breakfast_calories\n",
        "        self.lunch_calories = lunch_calories\n",
        "        self.dinner_calories = dinner_calories\n",
        "        self.exercise = exercise\n",
        "        self.bmr = bmr\n",
        "\n",
        "    def calorie_deficit(self):\n",
        "        total_calories = self.breakfast_calories + self.lunch_calories + self.dinner_calories\n",
        "        deficit = self.bmr + self.exercise - total_calories\n",
        "        return deficit\n",
        "\n",
        "# Creating main program to interact with user\n",
        "def main():\n",
        "    print(\"=\" * 30)\n",
        "    print(\"Diet Tracker\")\n",
        "    print(\"=\" * 30)\n",
        "\n",
        "    breakfast_calories = int(input(\"How many calories did you have for breakfast? \"))\n",
        "    lunch_calories = int(input(\"How many calories did you have for lunch? \"))\n",
        "    dinner_calories = int(input(\"How many calories did you have for dinner? \"))\n",
        "    exercise = int(input(\"How many calories did you burn exercising? \"))\n",
        "    bmr = int(input(\"Enter your bmr \"))\n",
        "\n",
        "    fitness = Diet(breakfast_calories, lunch_calories, dinner_calories, exercise, bmr)\n",
        "    deficit = fitness.calorie_deficit()\n",
        "\n",
        "    print(f\"Your calorie deficit for today is: {deficit:.2f} calories\")\n",
        "\n",
        "if __name__ == \"__main__\":\n",
        "    main()"
      ]
    }
  ],
  "metadata": {
    "colab": {
      "provenance": []
    },
    "kernelspec": {
      "display_name": "Python 3",
      "name": "python3"
    },
    "language_info": {
      "name": "python"
    }
  },
  "nbformat": 4,
  "nbformat_minor": 0
}
