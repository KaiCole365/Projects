{
  "nbformat": 4,
  "nbformat_minor": 0,
  "metadata": {
    "colab": {
      "provenance": []
    },
    "kernelspec": {
      "name": "python3",
      "display_name": "Python 3"
    },
    "language_info": {
      "name": "python"
    }
  },
  "cells": [
    {
      "cell_type": "code",
      "execution_count": null,
      "metadata": {
        "colab": {
          "base_uri": "https://localhost:8080/"
        },
        "id": "T1tbJrMroB4i",
        "outputId": "1ffad75a-8a31-4ddb-b589-d4d1b2ae73b5"
      },
      "outputs": [
        {
          "metadata": {
            "tags": null
          },
          "name": "stdout",
          "output_type": "stream",
          "text": [
            "Welcome to the BMI Calculator\n"
          ]
        }
      ],
      "source": [
        "# Creating main program:\n",
        "def main():\n",
        "    print(\"Welcome to the BMI Calculator\")\n",
        "    weight, height = get_user_input()\n",
        "    bmi = calculate_bmi(weight, height)\n",
        "    category = get_bmi_category(bmi)\n",
        "\n",
        "    print(f\"\\nYour BMI is: {bmi}\")\n",
        "    print(f\"BMI Category: {category}\")\n",
        "\n",
        "# Defining main function for calculating BMI\n",
        "def calculate_bmi(weight, height):\n",
        "    return round(weight / (height ** 2), 2) # W / H^2 = BMI\n",
        "\n",
        "# Creating function to get user input for weight and height\n",
        "def get_user_input():\n",
        "    weight = float(input(\"Enter your weight in lbs: \"))\n",
        "    height = float(input(\"Enter your height in inches: \"))\n",
        "    return weight, height\n",
        "\n",
        "# Creating function to determine the BMI category\n",
        "def get_bmi_category(bmi):\n",
        "    if bmi < 18.5:\n",
        "        return \"Underweight\"\n",
        "    elif 18.5 < bmi <= 24.9:\n",
        "        return \"Normal weight\"\n",
        "    elif 25 < bmi <= 29.9:\n",
        "        return \"Overweight\"\n",
        "    else:\n",
        "        return \"Obese\"\n",
        "\n",
        "if __name__ == \"__main__\":\n",
        "    main()"
      ]
    }
  ]
}